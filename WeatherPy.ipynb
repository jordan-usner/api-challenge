{
 "cells": [
  {
   "cell_type": "markdown",
   "metadata": {},
   "source": [
    "# WeatherPy\n",
    "----\n",
    "\n",
    "#### Note\n",
    "* Instructions have been included for each segment. You do not have to follow them exactly, but they are included to help you think through the steps."
   ]
  },
  {
   "cell_type": "code",
   "execution_count": 14,
   "metadata": {
    "scrolled": true
   },
   "outputs": [],
   "source": [
    "# Dependencies and Setup\n",
    "import matplotlib.pyplot as plt\n",
    "import pandas as pd\n",
    "import numpy as np\n",
    "import requests\n",
    "import time\n",
    "from scipy.stats import linregress\n",
    "\n",
    "# Import API key\n",
    "from api_keys import weather_api_key\n",
    "\n",
    "# Incorporated citipy to determine city based on latitude and longitude\n",
    "from citipy import citipy\n",
    "\n",
    "# Output File (CSV)\n",
    "output_data_file = \"output_data/cities.csv\"\n",
    "\n",
    "# Range of latitudes and longitudes\n",
    "lat_range = (-90, 90)\n",
    "lng_range = (-180, 180)"
   ]
  },
  {
   "cell_type": "markdown",
   "metadata": {},
   "source": [
    "## Generate Cities List"
   ]
  },
  {
   "cell_type": "code",
   "execution_count": 15,
   "metadata": {},
   "outputs": [
    {
     "data": {
      "text/plain": [
       "621"
      ]
     },
     "execution_count": 15,
     "metadata": {},
     "output_type": "execute_result"
    }
   ],
   "source": [
    "# List for holding lat_lngs and cities\n",
    "lat_lngs = []\n",
    "cities = []\n",
    "\n",
    "# Create a set of random lat and lng combinations\n",
    "lats = np.random.uniform(lat_range[0], lat_range[1], size=1500)\n",
    "lngs = np.random.uniform(lng_range[0], lng_range[1], size=1500)\n",
    "lat_lngs = zip(lats, lngs)\n",
    "\n",
    "# Identify nearest city for each lat, lng combination\n",
    "for lat_lng in lat_lngs:\n",
    "    city = citipy.nearest_city(lat_lng[0], lat_lng[1]).city_name\n",
    "    \n",
    "    # If the city is unique, then add it to a our cities list\n",
    "    if city not in cities:\n",
    "        cities.append(city)\n",
    "\n",
    "# Print the city count to confirm sufficient count\n",
    "len(cities)"
   ]
  },
  {
   "cell_type": "code",
   "execution_count": 16,
   "metadata": {},
   "outputs": [
    {
     "data": {
      "text/plain": [
       "{'coord': {'lon': -50.21, 'lat': -30.18},\n",
       " 'weather': [{'id': 803,\n",
       "   'main': 'Clouds',\n",
       "   'description': 'broken clouds',\n",
       "   'icon': '04n'}],\n",
       " 'base': 'stations',\n",
       " 'main': {'temp': 56.57,\n",
       "  'feels_like': 47.1,\n",
       "  'temp_min': 56.57,\n",
       "  'temp_max': 56.57,\n",
       "  'pressure': 1018,\n",
       "  'humidity': 77,\n",
       "  'sea_level': 1018,\n",
       "  'grnd_level': 1017},\n",
       " 'visibility': 10000,\n",
       " 'wind': {'speed': 16.69, 'deg': 203},\n",
       " 'clouds': {'all': 69},\n",
       " 'dt': 1597871048,\n",
       " 'sys': {'country': 'BR', 'sunrise': 1597830623, 'sunset': 1597870720},\n",
       " 'timezone': -10800,\n",
       " 'id': 3466165,\n",
       " 'name': 'Cidreira',\n",
       " 'cod': 200}"
      ]
     },
     "execution_count": 16,
     "metadata": {},
     "output_type": "execute_result"
    }
   ],
   "source": [
    "url = \"http://api.openweathermap.org/data/2.5/weather?q=\"\n",
    "api_key = \"&appid=\" + weather_api_key\n",
    "data = requests.get(url + cities[10] + \"&units=imperial\" + api_key).json()\n",
    "data"
   ]
  },
  {
   "cell_type": "markdown",
   "metadata": {},
   "source": [
    "### Perform API Calls\n",
    "* Perform a weather check on each city using a series of successive API calls.\n",
    "* Include a print log of each city as it'sbeing processed (with the city number and city name).\n"
   ]
  },
  {
   "cell_type": "code",
   "execution_count": 17,
   "metadata": {},
   "outputs": [
    {
     "name": "stdout",
     "output_type": "stream",
     "text": [
      "Processing Record 1 of 621 : vaitupu\n",
      "City not found, skipping\n",
      "Processing Record 2 of 621 : akdepe\n",
      "Processing Record 3 of 621 : tasiilaq\n",
      "Processing Record 4 of 621 : puerto ayora\n",
      "Processing Record 5 of 621 : alberton\n",
      "Processing Record 6 of 621 : mount gambier\n",
      "Processing Record 7 of 621 : hobart\n",
      "Processing Record 8 of 621 : upernavik\n",
      "Processing Record 9 of 621 : ushuaia\n",
      "Processing Record 10 of 621 : nancha\n",
      "Processing Record 11 of 621 : cidreira\n",
      "Processing Record 12 of 621 : basco\n",
      "Processing Record 13 of 621 : vardo\n",
      "Processing Record 14 of 621 : rikitea\n",
      "Processing Record 15 of 621 : hermanus\n",
      "Processing Record 16 of 621 : ancud\n",
      "Processing Record 17 of 621 : bredasdorp\n",
      "Processing Record 18 of 621 : bella union\n",
      "Processing Record 19 of 621 : saint-philippe\n",
      "Processing Record 20 of 621 : arraial do cabo\n",
      "Processing Record 21 of 621 : morondava\n",
      "Processing Record 22 of 621 : bambanglipuro\n",
      "Processing Record 23 of 621 : tucurui\n",
      "Processing Record 24 of 621 : yakeshi\n",
      "Processing Record 25 of 621 : klaksvik\n",
      "Processing Record 26 of 621 : albany\n",
      "Processing Record 27 of 621 : marcona\n",
      "City not found, skipping\n",
      "Processing Record 28 of 621 : mataura\n",
      "Processing Record 29 of 621 : puerto narino\n",
      "Processing Record 30 of 621 : atuona\n",
      "Processing Record 31 of 621 : taolanaro\n",
      "City not found, skipping\n",
      "Processing Record 32 of 621 : salalah\n",
      "Processing Record 33 of 621 : castro\n",
      "Processing Record 34 of 621 : pevek\n",
      "Processing Record 35 of 621 : umzimvubu\n",
      "City not found, skipping\n",
      "Processing Record 36 of 621 : lebu\n",
      "Processing Record 37 of 621 : asau\n",
      "Processing Record 38 of 621 : hasaki\n",
      "Processing Record 39 of 621 : tuatapere\n",
      "Processing Record 40 of 621 : burica\n",
      "City not found, skipping\n",
      "Processing Record 41 of 621 : ust-bolsheretsk\n",
      "City not found, skipping\n",
      "Processing Record 42 of 621 : chernyshevsk\n",
      "Processing Record 43 of 621 : jamestown\n",
      "Processing Record 44 of 621 : cabo san lucas\n",
      "Processing Record 45 of 621 : narsaq\n",
      "Processing Record 46 of 621 : airai\n",
      "Processing Record 47 of 621 : port alfred\n",
      "Processing Record 48 of 621 : huarmey\n",
      "Processing Record 49 of 621 : bairiki\n",
      "Processing Record 50 of 621 : polyarnyy\n",
      "Processing Record 51 of 621 : souillac\n",
      "Processing Record 52 of 621 : vila\n",
      "Processing Record 53 of 621 : xuddur\n",
      "Processing Record 54 of 621 : nikolskoye\n",
      "Processing Record 55 of 621 : zhigansk\n",
      "Processing Record 56 of 621 : sao filipe\n",
      "Processing Record 57 of 621 : jumla\n",
      "Processing Record 58 of 621 : ostrovnoy\n",
      "Processing Record 59 of 621 : bluff\n",
      "Processing Record 60 of 621 : svetlogorsk\n",
      "Processing Record 61 of 621 : gorom-gorom\n",
      "Processing Record 62 of 621 : belmonte\n",
      "Processing Record 63 of 621 : broome\n",
      "Processing Record 64 of 621 : ust-nera\n",
      "Processing Record 65 of 621 : ojinaga\n",
      "Processing Record 66 of 621 : new norfolk\n",
      "Processing Record 67 of 621 : busselton\n",
      "Processing Record 68 of 621 : benjamin constant\n",
      "Processing Record 69 of 621 : faya\n",
      "Processing Record 70 of 621 : hovd\n",
      "Processing Record 71 of 621 : maghama\n",
      "City not found, skipping\n",
      "Processing Record 72 of 621 : namibe\n",
      "Processing Record 73 of 621 : bengkulu\n",
      "Processing Record 74 of 621 : lashio\n",
      "Processing Record 75 of 621 : barrow\n",
      "Processing Record 76 of 621 : hilo\n",
      "Processing Record 77 of 621 : thompson\n",
      "Processing Record 78 of 621 : tomatlan\n",
      "Processing Record 79 of 621 : tuktoyaktuk\n",
      "Processing Record 80 of 621 : chapais\n",
      "Processing Record 81 of 621 : yaring\n",
      "Processing Record 82 of 621 : vaini\n",
      "Processing Record 83 of 621 : xining\n",
      "Processing Record 84 of 621 : ribeira grande\n",
      "Processing Record 85 of 621 : grand gaube\n",
      "Processing Record 86 of 621 : punta arenas\n",
      "Processing Record 87 of 621 : mutsu\n",
      "Processing Record 88 of 621 : les trois-bassins\n",
      "Processing Record 89 of 621 : chuy\n",
      "Processing Record 90 of 621 : moshenskoye\n",
      "Processing Record 91 of 621 : gouyave\n",
      "Processing Record 92 of 621 : hamilton\n",
      "Processing Record 93 of 621 : tomohon\n",
      "Processing Record 94 of 621 : kruisfontein\n",
      "Processing Record 95 of 621 : florennes\n",
      "Processing Record 96 of 621 : golden\n",
      "Processing Record 97 of 621 : cazaje\n",
      "City not found, skipping\n",
      "Processing Record 98 of 621 : bambous virieux\n",
      "Processing Record 99 of 621 : haibowan\n",
      "City not found, skipping\n",
      "Processing Record 100 of 621 : meyungs\n",
      "City not found, skipping\n",
      "Processing Record 101 of 621 : sept-iles\n",
      "Processing Record 102 of 621 : saskylakh\n",
      "Processing Record 103 of 621 : orange walk\n",
      "Processing Record 104 of 621 : tiksi\n",
      "Processing Record 105 of 621 : cape town\n",
      "Processing Record 106 of 621 : fairbanks\n",
      "Processing Record 107 of 621 : mahebourg\n",
      "Processing Record 108 of 621 : butaritari\n",
      "Processing Record 109 of 621 : camacari\n",
      "Processing Record 110 of 621 : okha\n",
      "Processing Record 111 of 621 : kavaratti\n",
      "Processing Record 112 of 621 : petropavlovsk-kamchatskiy\n",
      "Processing Record 113 of 621 : biak\n",
      "Processing Record 114 of 621 : tazovskiy\n",
      "Processing Record 115 of 621 : villa rica\n",
      "Processing Record 116 of 621 : isangel\n",
      "Processing Record 117 of 621 : viedma\n",
      "Processing Record 118 of 621 : puerto colombia\n",
      "Processing Record 119 of 621 : puebla\n",
      "Processing Record 120 of 621 : taltal\n",
      "Processing Record 121 of 621 : illoqqortoormiut\n",
      "City not found, skipping\n",
      "Processing Record 122 of 621 : nchelenge\n",
      "Processing Record 123 of 621 : consuegra\n",
      "Processing Record 124 of 621 : ilulissat\n",
      "Processing Record 125 of 621 : gulu\n",
      "Processing Record 126 of 621 : pinotepa nacional\n",
      "Processing Record 127 of 621 : bud\n",
      "Processing Record 128 of 621 : avarua\n",
      "Processing Record 129 of 621 : qaanaaq\n",
      "Processing Record 130 of 621 : saint george\n",
      "Processing Record 131 of 621 : nemuro\n",
      "Processing Record 132 of 621 : challapata\n",
      "Processing Record 133 of 621 : kapaa\n",
      "Processing Record 134 of 621 : firminy\n",
      "Processing Record 135 of 621 : nome\n",
      "Processing Record 136 of 621 : aklavik\n",
      "Processing Record 137 of 621 : kahului\n",
      "Processing Record 138 of 621 : klyuchi\n",
      "Processing Record 139 of 621 : kaeo\n",
      "Processing Record 140 of 621 : wulanhaote\n",
      "City not found, skipping\n",
      "Processing Record 141 of 621 : rocha\n",
      "Processing Record 142 of 621 : nkongsamba\n",
      "Processing Record 143 of 621 : tabialan\n",
      "City not found, skipping\n",
      "Processing Record 144 of 621 : deshna\n",
      "City not found, skipping\n",
      "Processing Record 145 of 621 : yellowknife\n",
      "Processing Record 146 of 621 : non thai\n",
      "Processing Record 147 of 621 : kjopsvik\n",
      "Processing Record 148 of 621 : sola\n",
      "Processing Record 149 of 621 : wiang sa\n",
      "Processing Record 150 of 621 : lavrentiya\n",
      "Processing Record 151 of 621 : smolenka\n",
      "Processing Record 152 of 621 : waipawa\n",
      "Processing Record 153 of 621 : almaty\n",
      "Processing Record 154 of 621 : maniitsoq\n",
      "Processing Record 155 of 621 : ponta do sol\n",
      "Processing Record 156 of 621 : asyut\n",
      "Processing Record 157 of 621 : pacific grove\n",
      "Processing Record 158 of 621 : gilbues\n",
      "Processing Record 159 of 621 : dikson\n",
      "Processing Record 160 of 621 : mar del plata\n",
      "Processing Record 161 of 621 : grindavik\n",
      "Processing Record 162 of 621 : north platte\n",
      "Processing Record 163 of 621 : ust-kuyga\n",
      "Processing Record 164 of 621 : xanxere\n",
      "Processing Record 165 of 621 : mys shmidta\n",
      "City not found, skipping\n",
      "Processing Record 166 of 621 : hithadhoo\n",
      "Processing Record 167 of 621 : lancut\n",
      "Processing Record 168 of 621 : susangerd\n",
      "Processing Record 169 of 621 : belushya guba\n",
      "City not found, skipping\n",
      "Processing Record 170 of 621 : provideniya\n",
      "Processing Record 171 of 621 : kieta\n",
      "Processing Record 172 of 621 : tauranga\n",
      "Processing Record 173 of 621 : victoria\n",
      "Processing Record 174 of 621 : nanortalik\n",
      "Processing Record 175 of 621 : khatanga\n",
      "Processing Record 176 of 621 : christchurch\n",
      "Processing Record 177 of 621 : porto novo\n",
      "Processing Record 178 of 621 : carutapera\n",
      "Processing Record 179 of 621 : mumford\n",
      "Processing Record 180 of 621 : yumen\n",
      "Processing Record 181 of 621 : ucluelet\n",
      "Processing Record 182 of 621 : port elizabeth\n",
      "Processing Record 183 of 621 : sug-aksy\n",
      "City not found, skipping\n",
      "Processing Record 184 of 621 : attawapiskat\n",
      "City not found, skipping\n",
      "Processing Record 185 of 621 : coihaique\n",
      "Processing Record 186 of 621 : lorengau\n",
      "Processing Record 187 of 621 : brainerd\n",
      "Processing Record 188 of 621 : khuzhir\n",
      "Processing Record 189 of 621 : batagay-alyta\n",
      "Processing Record 190 of 621 : port hardy\n",
      "Processing Record 191 of 621 : alofi\n",
      "Processing Record 192 of 621 : kodiak\n",
      "Processing Record 193 of 621 : moussoro\n",
      "Processing Record 194 of 621 : lolua\n",
      "City not found, skipping\n",
      "Processing Record 195 of 621 : bay city\n"
     ]
    },
    {
     "name": "stdout",
     "output_type": "stream",
     "text": [
      "Processing Record 196 of 621 : tongliao\n",
      "Processing Record 197 of 621 : touros\n",
      "Processing Record 198 of 621 : ituiutaba\n",
      "Processing Record 199 of 621 : kulhudhuffushi\n",
      "Processing Record 200 of 621 : kefamenanu\n",
      "Processing Record 201 of 621 : dhaulpur\n",
      "Processing Record 202 of 621 : estevan\n",
      "Processing Record 203 of 621 : faanui\n",
      "Processing Record 204 of 621 : virginia beach\n",
      "Processing Record 205 of 621 : bedford\n",
      "Processing Record 206 of 621 : den helder\n",
      "Processing Record 207 of 621 : severo-kurilsk\n",
      "Processing Record 208 of 621 : lingao\n",
      "Processing Record 209 of 621 : nara\n",
      "Processing Record 210 of 621 : esperance\n",
      "Processing Record 211 of 621 : fort nelson\n",
      "Processing Record 212 of 621 : balykshi\n",
      "City not found, skipping\n",
      "Processing Record 213 of 621 : necochea\n",
      "Processing Record 214 of 621 : mikhaylovka\n",
      "Processing Record 215 of 621 : saint anthony\n",
      "Processing Record 216 of 621 : batemans bay\n",
      "Processing Record 217 of 621 : verkhnevilyuysk\n",
      "Processing Record 218 of 621 : kalmunai\n",
      "Processing Record 219 of 621 : gairo\n",
      "Processing Record 220 of 621 : san carlos de bariloche\n",
      "Processing Record 221 of 621 : oeiras do para\n",
      "Processing Record 222 of 621 : santa fe\n",
      "Processing Record 223 of 621 : raudeberg\n",
      "Processing Record 224 of 621 : sodertalje\n",
      "City not found, skipping\n",
      "Processing Record 225 of 621 : sahrak\n",
      "City not found, skipping\n",
      "Processing Record 226 of 621 : namangan\n",
      "Processing Record 227 of 621 : kathmandu\n",
      "Processing Record 228 of 621 : sentyabrskiy\n",
      "City not found, skipping\n",
      "Processing Record 229 of 621 : chokurdakh\n",
      "Processing Record 230 of 621 : hami\n",
      "Processing Record 231 of 621 : babanusah\n",
      "City not found, skipping\n",
      "Processing Record 232 of 621 : martapura\n",
      "Processing Record 233 of 621 : sinnamary\n",
      "Processing Record 234 of 621 : cayenne\n",
      "Processing Record 235 of 621 : okhotsk\n",
      "Processing Record 236 of 621 : poso\n",
      "Processing Record 237 of 621 : pergine valsugana\n",
      "Processing Record 238 of 621 : poya\n",
      "Processing Record 239 of 621 : leningradskiy\n",
      "Processing Record 240 of 621 : palauig\n",
      "Processing Record 241 of 621 : muromtsevo\n",
      "Processing Record 242 of 621 : coquimbo\n",
      "Processing Record 243 of 621 : tiarei\n",
      "Processing Record 244 of 621 : port-gentil\n",
      "Processing Record 245 of 621 : renqiu\n",
      "Processing Record 246 of 621 : barentsburg\n",
      "City not found, skipping\n",
      "Processing Record 247 of 621 : olga\n",
      "Processing Record 248 of 621 : los llanos de aridane\n",
      "Processing Record 249 of 621 : lesogorsk\n",
      "Processing Record 250 of 621 : srednekolymsk\n",
      "Processing Record 251 of 621 : san rafael\n",
      "Processing Record 252 of 621 : ipixuna\n",
      "Processing Record 253 of 621 : nishihara\n",
      "Processing Record 254 of 621 : adwa\n",
      "Processing Record 255 of 621 : kamphaeng phet\n",
      "Processing Record 256 of 621 : auki\n",
      "Processing Record 257 of 621 : novoagansk\n",
      "Processing Record 258 of 621 : carnarvon\n",
      "Processing Record 259 of 621 : mogok\n",
      "Processing Record 260 of 621 : vostok\n",
      "Processing Record 261 of 621 : nizhneyansk\n",
      "City not found, skipping\n",
      "Processing Record 262 of 621 : torbay\n",
      "Processing Record 263 of 621 : andenes\n",
      "Processing Record 264 of 621 : wainwright\n",
      "Processing Record 265 of 621 : sonoita\n",
      "Processing Record 266 of 621 : rio grande\n",
      "Processing Record 267 of 621 : mudyuga\n",
      "City not found, skipping\n",
      "Processing Record 268 of 621 : saldanha\n",
      "Processing Record 269 of 621 : laguna\n",
      "Processing Record 270 of 621 : horsham\n",
      "Processing Record 271 of 621 : tocopilla\n",
      "Processing Record 272 of 621 : sorvag\n",
      "City not found, skipping\n",
      "Processing Record 273 of 621 : sioux lookout\n",
      "Processing Record 274 of 621 : port shepstone\n",
      "Processing Record 275 of 621 : goderich\n",
      "Processing Record 276 of 621 : plyussa\n",
      "Processing Record 277 of 621 : killybegs\n",
      "Processing Record 278 of 621 : kuching\n",
      "Processing Record 279 of 621 : chalmette\n",
      "Processing Record 280 of 621 : cap malheureux\n",
      "Processing Record 281 of 621 : saint-joseph\n",
      "Processing Record 282 of 621 : parfino\n",
      "Processing Record 283 of 621 : cockburn town\n",
      "Processing Record 284 of 621 : luwuk\n",
      "Processing Record 285 of 621 : zhigalovo\n",
      "Processing Record 286 of 621 : pisco\n",
      "Processing Record 287 of 621 : duncanville\n",
      "Processing Record 288 of 621 : felanitx\n",
      "Processing Record 289 of 621 : palu\n",
      "Processing Record 290 of 621 : sulangan\n",
      "Processing Record 291 of 621 : sibolga\n",
      "Processing Record 292 of 621 : kloulklubed\n",
      "Processing Record 293 of 621 : salta\n",
      "Processing Record 294 of 621 : gladstone\n",
      "Processing Record 295 of 621 : arkhara\n",
      "Processing Record 296 of 621 : sitka\n",
      "Processing Record 297 of 621 : guarapari\n",
      "Processing Record 298 of 621 : saint-augustin\n",
      "Processing Record 299 of 621 : beaverlodge\n",
      "Processing Record 300 of 621 : porto empedocle\n",
      "Processing Record 301 of 621 : ixtapa\n",
      "Processing Record 302 of 621 : amderma\n",
      "City not found, skipping\n",
      "Processing Record 303 of 621 : yuci\n",
      "Processing Record 304 of 621 : east london\n",
      "Processing Record 305 of 621 : nhulunbuy\n",
      "Processing Record 306 of 621 : kampot\n",
      "Processing Record 307 of 621 : moron\n",
      "Processing Record 308 of 621 : lichinga\n",
      "Processing Record 309 of 621 : ekibastuz\n",
      "Processing Record 310 of 621 : seddon\n",
      "Processing Record 311 of 621 : dingle\n",
      "Processing Record 312 of 621 : cherskiy\n",
      "Processing Record 313 of 621 : saleaula\n",
      "City not found, skipping\n",
      "Processing Record 314 of 621 : portland\n",
      "Processing Record 315 of 621 : lompoc\n",
      "Processing Record 316 of 621 : tuxtla gutierrez\n",
      "Processing Record 317 of 621 : villa maria\n",
      "Processing Record 318 of 621 : mookane\n",
      "Processing Record 319 of 621 : uzhur\n",
      "Processing Record 320 of 621 : berekum\n",
      "Processing Record 321 of 621 : port blair\n",
      "Processing Record 322 of 621 : jiaohe\n",
      "Processing Record 323 of 621 : namatanai\n",
      "Processing Record 324 of 621 : dawei\n",
      "Processing Record 325 of 621 : praya\n",
      "Processing Record 326 of 621 : sorong\n",
      "Processing Record 327 of 621 : guanica\n",
      "Processing Record 328 of 621 : gorele\n",
      "Processing Record 329 of 621 : port hawkesbury\n",
      "Processing Record 330 of 621 : talnakh\n",
      "Processing Record 331 of 621 : uberaba\n",
      "Processing Record 332 of 621 : griffith\n",
      "Processing Record 333 of 621 : katsuura\n",
      "Processing Record 334 of 621 : yazykovo\n",
      "Processing Record 335 of 621 : riyadh\n",
      "Processing Record 336 of 621 : maloshuyka\n",
      "City not found, skipping\n",
      "Processing Record 337 of 621 : te anau\n",
      "Processing Record 338 of 621 : henties bay\n",
      "Processing Record 339 of 621 : geraldton\n",
      "Processing Record 340 of 621 : masty\n",
      "Processing Record 341 of 621 : seoul\n",
      "Processing Record 342 of 621 : nefteyugansk\n",
      "Processing Record 343 of 621 : longyearbyen\n",
      "Processing Record 344 of 621 : saint-francois\n",
      "Processing Record 345 of 621 : tumannyy\n",
      "City not found, skipping\n",
      "Processing Record 346 of 621 : fortuna\n",
      "Processing Record 347 of 621 : vila franca do campo\n",
      "Processing Record 348 of 621 : hadejia\n",
      "Processing Record 349 of 621 : palabuhanratu\n",
      "City not found, skipping\n",
      "Processing Record 350 of 621 : sungaipenuh\n",
      "Processing Record 351 of 621 : yulara\n",
      "Processing Record 352 of 621 : suntar\n",
      "Processing Record 353 of 621 : camabatela\n",
      "Processing Record 354 of 621 : sistranda\n",
      "Processing Record 355 of 621 : hambantota\n",
      "Processing Record 356 of 621 : paldiski\n",
      "Processing Record 357 of 621 : gobabis\n",
      "Processing Record 358 of 621 : georgetown\n",
      "Processing Record 359 of 621 : san policarpo\n",
      "Processing Record 360 of 621 : two rivers\n",
      "Processing Record 361 of 621 : clyde river\n",
      "Processing Record 362 of 621 : shakiso\n",
      "Processing Record 363 of 621 : sri aman\n",
      "Processing Record 364 of 621 : atar\n",
      "Processing Record 365 of 621 : fairview\n",
      "Processing Record 366 of 621 : eyl\n",
      "Processing Record 367 of 621 : omboue\n",
      "Processing Record 368 of 621 : norman wells\n",
      "Processing Record 369 of 621 : thunder bay\n",
      "Processing Record 370 of 621 : dzierzoniow\n",
      "Processing Record 371 of 621 : aljezur\n",
      "Processing Record 372 of 621 : kirakira\n",
      "Processing Record 373 of 621 : devils lake\n",
      "Processing Record 374 of 621 : itapecerica\n",
      "Processing Record 375 of 621 : broken hill\n",
      "Processing Record 376 of 621 : skjervoy\n",
      "Processing Record 377 of 621 : ahipara\n",
      "Processing Record 378 of 621 : kalianget\n",
      "Processing Record 379 of 621 : loralai\n",
      "Processing Record 380 of 621 : olafsvik\n",
      "Processing Record 381 of 621 : saint-leu\n",
      "Processing Record 382 of 621 : edgewood\n",
      "Processing Record 383 of 621 : morehead\n",
      "Processing Record 384 of 621 : coari\n",
      "Processing Record 385 of 621 : mahajanga\n",
      "Processing Record 386 of 621 : kaitangata\n",
      "Processing Record 387 of 621 : toftir\n",
      "City not found, skipping\n",
      "Processing Record 388 of 621 : mugango\n"
     ]
    },
    {
     "name": "stdout",
     "output_type": "stream",
     "text": [
      "Processing Record 389 of 621 : hachinohe\n",
      "Processing Record 390 of 621 : alta floresta\n",
      "Processing Record 391 of 621 : chicama\n",
      "Processing Record 392 of 621 : rodrigues alves\n",
      "Processing Record 393 of 621 : tilichiki\n",
      "Processing Record 394 of 621 : nepalganj\n",
      "City not found, skipping\n",
      "Processing Record 395 of 621 : tarata\n",
      "Processing Record 396 of 621 : falealupo\n",
      "City not found, skipping\n",
      "Processing Record 397 of 621 : vulcanesti\n",
      "Processing Record 398 of 621 : taoudenni\n",
      "Processing Record 399 of 621 : teya\n",
      "Processing Record 400 of 621 : maturin\n",
      "Processing Record 401 of 621 : pachino\n",
      "Processing Record 402 of 621 : marsaxlokk\n",
      "Processing Record 403 of 621 : kadoshkino\n",
      "Processing Record 404 of 621 : ascension\n",
      "Processing Record 405 of 621 : oudtshoorn\n",
      "Processing Record 406 of 621 : kazerun\n",
      "Processing Record 407 of 621 : vanimo\n",
      "Processing Record 408 of 621 : berdigestyakh\n",
      "Processing Record 409 of 621 : dong hoi\n",
      "Processing Record 410 of 621 : kamloops\n",
      "Processing Record 411 of 621 : tankhoy\n",
      "Processing Record 412 of 621 : evensk\n",
      "Processing Record 413 of 621 : rungata\n",
      "City not found, skipping\n",
      "Processing Record 414 of 621 : saurikh\n",
      "Processing Record 415 of 621 : baykit\n",
      "Processing Record 416 of 621 : finote selam\n",
      "Processing Record 417 of 621 : qaqortoq\n",
      "Processing Record 418 of 621 : san-pedro\n",
      "Processing Record 419 of 621 : peniche\n",
      "Processing Record 420 of 621 : kozhva\n",
      "Processing Record 421 of 621 : gat\n",
      "Processing Record 422 of 621 : savannakhet\n",
      "Processing Record 423 of 621 : pailitas\n",
      "Processing Record 424 of 621 : constitucion\n",
      "Processing Record 425 of 621 : burns lake\n",
      "Processing Record 426 of 621 : coronel mariduena\n",
      "City not found, skipping\n",
      "Processing Record 427 of 621 : plettenberg bay\n",
      "Processing Record 428 of 621 : punta alta\n",
      "Processing Record 429 of 621 : yanchukan\n",
      "City not found, skipping\n",
      "Processing Record 430 of 621 : san patricio\n",
      "Processing Record 431 of 621 : kudahuvadhoo\n",
      "Processing Record 432 of 621 : maldonado\n",
      "Processing Record 433 of 621 : zolotinka\n",
      "City not found, skipping\n",
      "Processing Record 434 of 621 : muzhi\n",
      "Processing Record 435 of 621 : yining\n",
      "Processing Record 436 of 621 : sambava\n",
      "Processing Record 437 of 621 : kitimat\n",
      "Processing Record 438 of 621 : lagoa\n",
      "Processing Record 439 of 621 : san pedro\n",
      "Processing Record 440 of 621 : zavetnoye\n",
      "Processing Record 441 of 621 : pangnirtung\n",
      "Processing Record 442 of 621 : micheweni\n",
      "Processing Record 443 of 621 : beringovskiy\n",
      "Processing Record 444 of 621 : guasca\n",
      "Processing Record 445 of 621 : isabela\n",
      "Processing Record 446 of 621 : tezu\n",
      "Processing Record 447 of 621 : najran\n",
      "Processing Record 448 of 621 : belaya gora\n",
      "Processing Record 449 of 621 : barcelona\n",
      "Processing Record 450 of 621 : barcelos\n",
      "Processing Record 451 of 621 : fuerte olimpo\n",
      "Processing Record 452 of 621 : bandarbeyla\n",
      "Processing Record 453 of 621 : tura\n",
      "Processing Record 454 of 621 : makat\n",
      "Processing Record 455 of 621 : ukiah\n",
      "Processing Record 456 of 621 : tabou\n",
      "Processing Record 457 of 621 : severo-yeniseyskiy\n",
      "Processing Record 458 of 621 : luderitz\n",
      "Processing Record 459 of 621 : acari\n",
      "Processing Record 460 of 621 : sao felix do xingu\n",
      "Processing Record 461 of 621 : muroto\n",
      "Processing Record 462 of 621 : sao jose da coroa grande\n",
      "Processing Record 463 of 621 : barra do corda\n",
      "Processing Record 464 of 621 : grand river south east\n",
      "City not found, skipping\n",
      "Processing Record 465 of 621 : acarau\n",
      "Processing Record 466 of 621 : mehamn\n",
      "Processing Record 467 of 621 : tynda\n",
      "Processing Record 468 of 621 : katunki\n",
      "City not found, skipping\n",
      "Processing Record 469 of 621 : hokitika\n",
      "Processing Record 470 of 621 : signa\n",
      "Processing Record 471 of 621 : athabasca\n",
      "Processing Record 472 of 621 : san cristobal\n",
      "Processing Record 473 of 621 : nizhnyaya poyma\n",
      "Processing Record 474 of 621 : aksu\n",
      "Processing Record 475 of 621 : la ronge\n",
      "Processing Record 476 of 621 : erzincan\n",
      "Processing Record 477 of 621 : vila velha\n",
      "Processing Record 478 of 621 : coatesville\n",
      "Processing Record 479 of 621 : omsukchan\n",
      "Processing Record 480 of 621 : naze\n",
      "Processing Record 481 of 621 : kurayoshi\n",
      "Processing Record 482 of 621 : kolpashevo\n",
      "Processing Record 483 of 621 : mayo\n",
      "Processing Record 484 of 621 : kutum\n",
      "Processing Record 485 of 621 : acapulco\n",
      "Processing Record 486 of 621 : sinjah\n",
      "City not found, skipping\n",
      "Processing Record 487 of 621 : sandakan\n",
      "Processing Record 488 of 621 : gushikawa\n",
      "Processing Record 489 of 621 : merauke\n",
      "Processing Record 490 of 621 : kurilsk\n",
      "Processing Record 491 of 621 : pitimbu\n",
      "Processing Record 492 of 621 : burnie\n",
      "Processing Record 493 of 621 : half moon bay\n",
      "Processing Record 494 of 621 : sadao\n",
      "Processing Record 495 of 621 : porto velho\n",
      "Processing Record 496 of 621 : murupara\n",
      "Processing Record 497 of 621 : ust-kamchatsk\n",
      "City not found, skipping\n",
      "Processing Record 498 of 621 : kamenskoye\n",
      "City not found, skipping\n",
      "Processing Record 499 of 621 : flinders\n",
      "Processing Record 500 of 621 : magomeni\n",
      "Processing Record 501 of 621 : oxford\n",
      "Processing Record 502 of 621 : cairns\n",
      "Processing Record 503 of 621 : marsa matruh\n",
      "Processing Record 504 of 621 : tuy hoa\n",
      "Processing Record 505 of 621 : willmar\n",
      "Processing Record 506 of 621 : meiganga\n",
      "Processing Record 507 of 621 : krasnoselkup\n",
      "Processing Record 508 of 621 : beira\n",
      "Processing Record 509 of 621 : turochak\n",
      "Processing Record 510 of 621 : vicente guerrero\n",
      "Processing Record 511 of 621 : deputatskiy\n",
      "Processing Record 512 of 621 : tsihombe\n",
      "City not found, skipping\n",
      "Processing Record 513 of 621 : sarai\n",
      "Processing Record 514 of 621 : waw\n",
      "Processing Record 515 of 621 : iquique\n",
      "Processing Record 516 of 621 : baishishan\n",
      "Processing Record 517 of 621 : mandalgovi\n",
      "Processing Record 518 of 621 : alyangula\n",
      "Processing Record 519 of 621 : thinadhoo\n",
      "Processing Record 520 of 621 : wundanyi\n",
      "Processing Record 521 of 621 : lima\n",
      "Processing Record 522 of 621 : sweetwater\n",
      "Processing Record 523 of 621 : trairi\n",
      "Processing Record 524 of 621 : somerset east\n",
      "Processing Record 525 of 621 : lebowakgomo\n",
      "Processing Record 526 of 621 : ginda\n",
      "Processing Record 527 of 621 : susuman\n",
      "Processing Record 528 of 621 : newcastle\n",
      "Processing Record 529 of 621 : rapid valley\n",
      "Processing Record 530 of 621 : labutta\n",
      "City not found, skipping\n",
      "Processing Record 531 of 621 : bayan\n",
      "Processing Record 532 of 621 : labuhan\n",
      "Processing Record 533 of 621 : hobyo\n",
      "Processing Record 534 of 621 : suda\n",
      "Processing Record 535 of 621 : honningsvag\n",
      "Processing Record 536 of 621 : kayfan\n",
      "City not found, skipping\n",
      "Processing Record 537 of 621 : qitaihe\n",
      "Processing Record 538 of 621 : rawson\n",
      "Processing Record 539 of 621 : nalut\n",
      "Processing Record 540 of 621 : lebedyn\n",
      "Processing Record 541 of 621 : iralaya\n",
      "Processing Record 542 of 621 : loudi\n",
      "Processing Record 543 of 621 : umm durman\n",
      "City not found, skipping\n",
      "Processing Record 544 of 621 : sabang\n",
      "Processing Record 545 of 621 : batouri\n",
      "Processing Record 546 of 621 : padang\n",
      "Processing Record 547 of 621 : ampanihy\n",
      "Processing Record 548 of 621 : port lincoln\n",
      "Processing Record 549 of 621 : iqaluit\n",
      "Processing Record 550 of 621 : nantucket\n",
      "Processing Record 551 of 621 : havelock\n",
      "Processing Record 552 of 621 : abu dhabi\n",
      "Processing Record 553 of 621 : bethel\n",
      "Processing Record 554 of 621 : bathsheba\n",
      "Processing Record 555 of 621 : belluru\n",
      "Processing Record 556 of 621 : duluth\n",
      "Processing Record 557 of 621 : natal\n",
      "Processing Record 558 of 621 : juneau\n",
      "Processing Record 559 of 621 : porbandar\n",
      "Processing Record 560 of 621 : byron bay\n",
      "Processing Record 561 of 621 : trinidad\n",
      "Processing Record 562 of 621 : sorland\n",
      "Processing Record 563 of 621 : breyten\n",
      "Processing Record 564 of 621 : kent\n",
      "Processing Record 565 of 621 : nikolayevka\n",
      "Processing Record 566 of 621 : dangriga\n",
      "Processing Record 567 of 621 : dublin\n",
      "Processing Record 568 of 621 : alice springs\n",
      "Processing Record 569 of 621 : darhan\n",
      "Processing Record 570 of 621 : gravdal\n",
      "Processing Record 571 of 621 : tabiauea\n",
      "City not found, skipping\n",
      "Processing Record 572 of 621 : coahuayana\n",
      "Processing Record 573 of 621 : khash\n",
      "Processing Record 574 of 621 : takoradi\n",
      "Processing Record 575 of 621 : oriximina\n",
      "Processing Record 576 of 621 : camacha\n",
      "Processing Record 577 of 621 : puro\n",
      "Processing Record 578 of 621 : peregu mare\n",
      "Processing Record 579 of 621 : praia da vitoria\n",
      "Processing Record 580 of 621 : bowen\n"
     ]
    },
    {
     "name": "stdout",
     "output_type": "stream",
     "text": [
      "Processing Record 581 of 621 : erenhot\n",
      "Processing Record 582 of 621 : marawi\n",
      "Processing Record 583 of 621 : tumpat\n",
      "Processing Record 584 of 621 : khandyga\n",
      "Processing Record 585 of 621 : manzanillo\n",
      "Processing Record 586 of 621 : quepos\n",
      "Processing Record 587 of 621 : yenagoa\n",
      "Processing Record 588 of 621 : menongue\n",
      "Processing Record 589 of 621 : hvolsvollur\n",
      "Processing Record 590 of 621 : cumaribo\n",
      "City not found, skipping\n",
      "Processing Record 591 of 621 : norsup\n",
      "Processing Record 592 of 621 : la asuncion\n",
      "Processing Record 593 of 621 : kamaishi\n",
      "Processing Record 594 of 621 : marjamaa\n",
      "Processing Record 595 of 621 : bhuj\n",
      "Processing Record 596 of 621 : pyapon\n",
      "Processing Record 597 of 621 : igdir\n",
      "Processing Record 598 of 621 : santa luzia\n",
      "Processing Record 599 of 621 : gisborne\n",
      "Processing Record 600 of 621 : vitoria da conquista\n",
      "Processing Record 601 of 621 : bara\n",
      "Processing Record 602 of 621 : monroe\n",
      "Processing Record 603 of 621 : boa vista\n",
      "Processing Record 604 of 621 : moose factory\n",
      "Processing Record 605 of 621 : maridi\n",
      "Processing Record 606 of 621 : san quintin\n",
      "Processing Record 607 of 621 : magdagachi\n",
      "Processing Record 608 of 621 : likasi\n",
      "Processing Record 609 of 621 : sakata\n",
      "Processing Record 610 of 621 : dunedin\n",
      "Processing Record 611 of 621 : rudnogorsk\n",
      "Processing Record 612 of 621 : lengshuitan\n",
      "Processing Record 613 of 621 : kollumerland\n",
      "City not found, skipping\n",
      "Processing Record 614 of 621 : samusu\n",
      "City not found, skipping\n",
      "Processing Record 615 of 621 : beisfjord\n",
      "Processing Record 616 of 621 : nguiu\n",
      "City not found, skipping\n",
      "Processing Record 617 of 621 : walvis bay\n",
      "Processing Record 618 of 621 : hirara\n",
      "Processing Record 619 of 621 : coyuca\n",
      "City not found, skipping\n",
      "Processing Record 620 of 621 : mandiana\n",
      "Processing Record 621 of 621 : candolim\n"
     ]
    }
   ],
   "source": [
    "city_weather = []\n",
    "\n",
    "for i, city in enumerate(cities):\n",
    "    print(f\"Processing Record {i+1} of {len(cities)} : {city}\")\n",
    "    try: \n",
    "        city_data = requests.get(url + city + \"&units=imperial\" + api_key).json()\n",
    "        city_lat = city_data['coord']['lat']\n",
    "        city_lng = city_data['coord']['lon']\n",
    "        city_max_temp = city_data['main']['temp_max']\n",
    "        city_humidity = city_data['main']['humidity']\n",
    "        city_cloudiness = city_data['clouds']['all']\n",
    "        city_windspeed = city_data['wind']['speed']\n",
    "        city_country = city_data['sys']['country']\n",
    "        city_date = city_data['dt']\n",
    "    \n",
    "        city_weather.append({\n",
    "            \"City\" : city,\n",
    "            \"Lat\" : city_lat,\n",
    "            \"Lon\" : city_lng,\n",
    "            \"Max Temp\" : city_max_temp,\n",
    "            \"Humidity\" : city_humidity,\n",
    "            \"Cloudiness\" : city_cloudiness,\n",
    "            \"Windspeed\" : city_windspeed,\n",
    "            \"Country\" : city_country,\n",
    "            \"Date\" : city_date,\n",
    "        })\n",
    "    except:\n",
    "        print(\"City not found, skipping\")\n",
    "        pass"
   ]
  },
  {
   "cell_type": "markdown",
   "metadata": {},
   "source": [
    "### Convert Raw Data to DataFrame\n",
    "* Export the city data into a .csv.\n",
    "* Display the DataFrame"
   ]
  },
  {
   "cell_type": "code",
   "execution_count": 18,
   "metadata": {},
   "outputs": [
    {
     "data": {
      "text/plain": [
       "City          566\n",
       "Lat           566\n",
       "Lon           566\n",
       "Max Temp      566\n",
       "Humidity      566\n",
       "Cloudiness    566\n",
       "Windspeed     566\n",
       "Country       566\n",
       "Date          566\n",
       "dtype: int64"
      ]
     },
     "execution_count": 18,
     "metadata": {},
     "output_type": "execute_result"
    }
   ],
   "source": [
    "city_weather_df = pd.DataFrame(city_weather)\n",
    "city_weather_df.count()"
   ]
  },
  {
   "cell_type": "code",
   "execution_count": 19,
   "metadata": {},
   "outputs": [
    {
     "data": {
      "text/html": [
       "<div>\n",
       "<style scoped>\n",
       "    .dataframe tbody tr th:only-of-type {\n",
       "        vertical-align: middle;\n",
       "    }\n",
       "\n",
       "    .dataframe tbody tr th {\n",
       "        vertical-align: top;\n",
       "    }\n",
       "\n",
       "    .dataframe thead th {\n",
       "        text-align: right;\n",
       "    }\n",
       "</style>\n",
       "<table border=\"1\" class=\"dataframe\">\n",
       "  <thead>\n",
       "    <tr style=\"text-align: right;\">\n",
       "      <th></th>\n",
       "      <th>City</th>\n",
       "      <th>Lat</th>\n",
       "      <th>Lon</th>\n",
       "      <th>Max Temp</th>\n",
       "      <th>Humidity</th>\n",
       "      <th>Cloudiness</th>\n",
       "      <th>Windspeed</th>\n",
       "      <th>Country</th>\n",
       "      <th>Date</th>\n",
       "    </tr>\n",
       "  </thead>\n",
       "  <tbody>\n",
       "    <tr>\n",
       "      <th>0</th>\n",
       "      <td>akdepe</td>\n",
       "      <td>42.06</td>\n",
       "      <td>59.38</td>\n",
       "      <td>69.80</td>\n",
       "      <td>46</td>\n",
       "      <td>0</td>\n",
       "      <td>8.32</td>\n",
       "      <td>TM</td>\n",
       "      <td>1597871113</td>\n",
       "    </tr>\n",
       "    <tr>\n",
       "      <th>1</th>\n",
       "      <td>tasiilaq</td>\n",
       "      <td>65.61</td>\n",
       "      <td>-37.64</td>\n",
       "      <td>50.00</td>\n",
       "      <td>66</td>\n",
       "      <td>0</td>\n",
       "      <td>10.29</td>\n",
       "      <td>GL</td>\n",
       "      <td>1597870916</td>\n",
       "    </tr>\n",
       "    <tr>\n",
       "      <th>2</th>\n",
       "      <td>puerto ayora</td>\n",
       "      <td>-0.74</td>\n",
       "      <td>-90.35</td>\n",
       "      <td>78.80</td>\n",
       "      <td>57</td>\n",
       "      <td>40</td>\n",
       "      <td>23.04</td>\n",
       "      <td>EC</td>\n",
       "      <td>1597871113</td>\n",
       "    </tr>\n",
       "    <tr>\n",
       "      <th>3</th>\n",
       "      <td>alberton</td>\n",
       "      <td>46.82</td>\n",
       "      <td>-64.07</td>\n",
       "      <td>72.43</td>\n",
       "      <td>60</td>\n",
       "      <td>16</td>\n",
       "      <td>10.80</td>\n",
       "      <td>CA</td>\n",
       "      <td>1597871113</td>\n",
       "    </tr>\n",
       "    <tr>\n",
       "      <th>4</th>\n",
       "      <td>mount gambier</td>\n",
       "      <td>-37.83</td>\n",
       "      <td>140.77</td>\n",
       "      <td>44.60</td>\n",
       "      <td>93</td>\n",
       "      <td>75</td>\n",
       "      <td>6.93</td>\n",
       "      <td>AU</td>\n",
       "      <td>1597871114</td>\n",
       "    </tr>\n",
       "  </tbody>\n",
       "</table>\n",
       "</div>"
      ],
      "text/plain": [
       "            City    Lat     Lon  Max Temp  Humidity  Cloudiness  Windspeed  \\\n",
       "0         akdepe  42.06   59.38     69.80        46           0       8.32   \n",
       "1       tasiilaq  65.61  -37.64     50.00        66           0      10.29   \n",
       "2   puerto ayora  -0.74  -90.35     78.80        57          40      23.04   \n",
       "3       alberton  46.82  -64.07     72.43        60          16      10.80   \n",
       "4  mount gambier -37.83  140.77     44.60        93          75       6.93   \n",
       "\n",
       "  Country        Date  \n",
       "0      TM  1597871113  \n",
       "1      GL  1597870916  \n",
       "2      EC  1597871113  \n",
       "3      CA  1597871113  \n",
       "4      AU  1597871114  "
      ]
     },
     "execution_count": 19,
     "metadata": {},
     "output_type": "execute_result"
    }
   ],
   "source": [
    "city_weather_df.head()"
   ]
  },
  {
   "cell_type": "markdown",
   "metadata": {},
   "source": [
    "## Inspect the data and remove the cities where the humidity > 100%.\n",
    "----\n",
    "Skip this step if there are no cities that have humidity > 100%. "
   ]
  },
  {
   "cell_type": "code",
   "execution_count": 20,
   "metadata": {},
   "outputs": [
    {
     "data": {
      "text/html": [
       "<div>\n",
       "<style scoped>\n",
       "    .dataframe tbody tr th:only-of-type {\n",
       "        vertical-align: middle;\n",
       "    }\n",
       "\n",
       "    .dataframe tbody tr th {\n",
       "        vertical-align: top;\n",
       "    }\n",
       "\n",
       "    .dataframe thead th {\n",
       "        text-align: right;\n",
       "    }\n",
       "</style>\n",
       "<table border=\"1\" class=\"dataframe\">\n",
       "  <thead>\n",
       "    <tr style=\"text-align: right;\">\n",
       "      <th></th>\n",
       "      <th>Lat</th>\n",
       "      <th>Lon</th>\n",
       "      <th>Max Temp</th>\n",
       "      <th>Humidity</th>\n",
       "      <th>Cloudiness</th>\n",
       "      <th>Windspeed</th>\n",
       "      <th>Date</th>\n",
       "    </tr>\n",
       "  </thead>\n",
       "  <tbody>\n",
       "    <tr>\n",
       "      <th>count</th>\n",
       "      <td>566.000000</td>\n",
       "      <td>566.000000</td>\n",
       "      <td>566.000000</td>\n",
       "      <td>566.000000</td>\n",
       "      <td>566.000000</td>\n",
       "      <td>566.000000</td>\n",
       "      <td>5.660000e+02</td>\n",
       "    </tr>\n",
       "    <tr>\n",
       "      <th>mean</th>\n",
       "      <td>19.219134</td>\n",
       "      <td>22.500954</td>\n",
       "      <td>67.715742</td>\n",
       "      <td>71.492933</td>\n",
       "      <td>51.978799</td>\n",
       "      <td>7.708392</td>\n",
       "      <td>1.597871e+09</td>\n",
       "    </tr>\n",
       "    <tr>\n",
       "      <th>std</th>\n",
       "      <td>33.765229</td>\n",
       "      <td>91.897150</td>\n",
       "      <td>14.901895</td>\n",
       "      <td>21.009373</td>\n",
       "      <td>38.486171</td>\n",
       "      <td>5.141782</td>\n",
       "      <td>9.991068e+01</td>\n",
       "    </tr>\n",
       "    <tr>\n",
       "      <th>min</th>\n",
       "      <td>-54.800000</td>\n",
       "      <td>-175.200000</td>\n",
       "      <td>34.180000</td>\n",
       "      <td>7.000000</td>\n",
       "      <td>0.000000</td>\n",
       "      <td>0.360000</td>\n",
       "      <td>1.597871e+09</td>\n",
       "    </tr>\n",
       "    <tr>\n",
       "      <th>25%</th>\n",
       "      <td>-8.130000</td>\n",
       "      <td>-61.985000</td>\n",
       "      <td>54.740000</td>\n",
       "      <td>60.000000</td>\n",
       "      <td>10.250000</td>\n",
       "      <td>3.777500</td>\n",
       "      <td>1.597871e+09</td>\n",
       "    </tr>\n",
       "    <tr>\n",
       "      <th>50%</th>\n",
       "      <td>20.795000</td>\n",
       "      <td>26.185000</td>\n",
       "      <td>69.800000</td>\n",
       "      <td>76.000000</td>\n",
       "      <td>52.500000</td>\n",
       "      <td>6.910000</td>\n",
       "      <td>1.597871e+09</td>\n",
       "    </tr>\n",
       "    <tr>\n",
       "      <th>75%</th>\n",
       "      <td>47.925000</td>\n",
       "      <td>106.182500</td>\n",
       "      <td>78.800000</td>\n",
       "      <td>87.000000</td>\n",
       "      <td>90.000000</td>\n",
       "      <td>10.560000</td>\n",
       "      <td>1.597871e+09</td>\n",
       "    </tr>\n",
       "    <tr>\n",
       "      <th>max</th>\n",
       "      <td>78.220000</td>\n",
       "      <td>179.320000</td>\n",
       "      <td>108.000000</td>\n",
       "      <td>100.000000</td>\n",
       "      <td>100.000000</td>\n",
       "      <td>31.090000</td>\n",
       "      <td>1.597871e+09</td>\n",
       "    </tr>\n",
       "  </tbody>\n",
       "</table>\n",
       "</div>"
      ],
      "text/plain": [
       "              Lat         Lon    Max Temp    Humidity  Cloudiness   Windspeed  \\\n",
       "count  566.000000  566.000000  566.000000  566.000000  566.000000  566.000000   \n",
       "mean    19.219134   22.500954   67.715742   71.492933   51.978799    7.708392   \n",
       "std     33.765229   91.897150   14.901895   21.009373   38.486171    5.141782   \n",
       "min    -54.800000 -175.200000   34.180000    7.000000    0.000000    0.360000   \n",
       "25%     -8.130000  -61.985000   54.740000   60.000000   10.250000    3.777500   \n",
       "50%     20.795000   26.185000   69.800000   76.000000   52.500000    6.910000   \n",
       "75%     47.925000  106.182500   78.800000   87.000000   90.000000   10.560000   \n",
       "max     78.220000  179.320000  108.000000  100.000000  100.000000   31.090000   \n",
       "\n",
       "               Date  \n",
       "count  5.660000e+02  \n",
       "mean   1.597871e+09  \n",
       "std    9.991068e+01  \n",
       "min    1.597871e+09  \n",
       "25%    1.597871e+09  \n",
       "50%    1.597871e+09  \n",
       "75%    1.597871e+09  \n",
       "max    1.597871e+09  "
      ]
     },
     "execution_count": 20,
     "metadata": {},
     "output_type": "execute_result"
    }
   ],
   "source": [
    "city_weather_df.describe()"
   ]
  },
  {
   "cell_type": "code",
   "execution_count": 7,
   "metadata": {},
   "outputs": [
    {
     "data": {
      "text/plain": [
       "Int64Index([], dtype='int64')"
      ]
     },
     "execution_count": 7,
     "metadata": {},
     "output_type": "execute_result"
    }
   ],
   "source": [
    "#  Get the indices of cities that have humidity over 100%.\n",
    "# subset on cities with humidity > 100%\n",
    "# bad_city_data = city_data_pd[(city_data_pd[\"Humidity\"] > 100)].index\n",
    "# data is fine already (max humidity is 100), skipping"
   ]
  },
  {
   "cell_type": "code",
   "execution_count": 8,
   "metadata": {},
   "outputs": [
    {
     "data": {
      "text/html": [
       "<div>\n",
       "<style scoped>\n",
       "    .dataframe tbody tr th:only-of-type {\n",
       "        vertical-align: middle;\n",
       "    }\n",
       "\n",
       "    .dataframe tbody tr th {\n",
       "        vertical-align: top;\n",
       "    }\n",
       "\n",
       "    .dataframe thead th {\n",
       "        text-align: right;\n",
       "    }\n",
       "</style>\n",
       "<table border=\"1\" class=\"dataframe\">\n",
       "  <thead>\n",
       "    <tr style=\"text-align: right;\">\n",
       "      <th></th>\n",
       "      <th>City</th>\n",
       "      <th>Lat</th>\n",
       "      <th>Lng</th>\n",
       "      <th>Max Temp</th>\n",
       "      <th>Humidity</th>\n",
       "      <th>Cloudiness</th>\n",
       "      <th>Wind Speed</th>\n",
       "      <th>Country</th>\n",
       "      <th>Date</th>\n",
       "    </tr>\n",
       "  </thead>\n",
       "  <tbody>\n",
       "    <tr>\n",
       "      <th>0</th>\n",
       "      <td>pimentel</td>\n",
       "      <td>-6.84</td>\n",
       "      <td>-79.93</td>\n",
       "      <td>66.20</td>\n",
       "      <td>29</td>\n",
       "      <td>75</td>\n",
       "      <td>5.82</td>\n",
       "      <td>PE</td>\n",
       "      <td>1585764415</td>\n",
       "    </tr>\n",
       "    <tr>\n",
       "      <th>1</th>\n",
       "      <td>victoria</td>\n",
       "      <td>22.29</td>\n",
       "      <td>114.16</td>\n",
       "      <td>69.01</td>\n",
       "      <td>88</td>\n",
       "      <td>40</td>\n",
       "      <td>18.34</td>\n",
       "      <td>HK</td>\n",
       "      <td>1585764288</td>\n",
       "    </tr>\n",
       "    <tr>\n",
       "      <th>2</th>\n",
       "      <td>padang</td>\n",
       "      <td>-0.95</td>\n",
       "      <td>100.35</td>\n",
       "      <td>79.90</td>\n",
       "      <td>75</td>\n",
       "      <td>99</td>\n",
       "      <td>1.63</td>\n",
       "      <td>ID</td>\n",
       "      <td>1585764115</td>\n",
       "    </tr>\n",
       "    <tr>\n",
       "      <th>3</th>\n",
       "      <td>hasaki</td>\n",
       "      <td>35.73</td>\n",
       "      <td>140.83</td>\n",
       "      <td>55.00</td>\n",
       "      <td>100</td>\n",
       "      <td>75</td>\n",
       "      <td>4.70</td>\n",
       "      <td>JP</td>\n",
       "      <td>1585764415</td>\n",
       "    </tr>\n",
       "    <tr>\n",
       "      <th>4</th>\n",
       "      <td>kahului</td>\n",
       "      <td>20.89</td>\n",
       "      <td>-156.47</td>\n",
       "      <td>70.00</td>\n",
       "      <td>88</td>\n",
       "      <td>1</td>\n",
       "      <td>7.63</td>\n",
       "      <td>US</td>\n",
       "      <td>1585764415</td>\n",
       "    </tr>\n",
       "  </tbody>\n",
       "</table>\n",
       "</div>"
      ],
      "text/plain": [
       "       City    Lat     Lng  Max Temp  Humidity  Cloudiness  Wind Speed  \\\n",
       "0  pimentel  -6.84  -79.93     66.20        29          75        5.82   \n",
       "1  victoria  22.29  114.16     69.01        88          40       18.34   \n",
       "2    padang  -0.95  100.35     79.90        75          99        1.63   \n",
       "3    hasaki  35.73  140.83     55.00       100          75        4.70   \n",
       "4   kahului  20.89 -156.47     70.00        88           1        7.63   \n",
       "\n",
       "  Country        Date  \n",
       "0      PE  1585764415  \n",
       "1      HK  1585764288  \n",
       "2      ID  1585764115  \n",
       "3      JP  1585764415  \n",
       "4      US  1585764415  "
      ]
     },
     "execution_count": 8,
     "metadata": {},
     "output_type": "execute_result"
    }
   ],
   "source": [
    "# Make a new DataFrame equal to the city data to drop all humidity outliers by index.\n",
    "# Passing \"inplace=False\" will make a copy of the city_data DataFrame, which we call \"clean_city_data\".\n",
    "# data is fine already (max humidity is 100), skipping"
   ]
  },
  {
   "cell_type": "code",
   "execution_count": 21,
   "metadata": {},
   "outputs": [],
   "source": [
    "# Extract relevant fields from the data frame\n",
    "\n",
    "\n",
    "# Export the City_Data into a csv\n",
    "city_weather_df.to_csv(\"output_data/cities.csv\", index=False, header=True)"
   ]
  },
  {
   "cell_type": "markdown",
   "metadata": {},
   "source": [
    "## Plotting the Data\n",
    "* Use proper labeling of the plots using plot titles (including date of analysis) and axes labels.\n",
    "* Save the plotted figures as .pngs."
   ]
  },
  {
   "cell_type": "markdown",
   "metadata": {},
   "source": [
    "## Latitude vs. Temperature Plot"
   ]
  },
  {
   "cell_type": "code",
   "execution_count": 24,
   "metadata": {
    "scrolled": true
   },
   "outputs": [
    {
     "data": {
      "image/png": "[encoded data removed]",
      "text/plain": [
       "<Figure size 432x288 with 1 Axes>"
      ]
     },
     "metadata": {
      "needs_background": "light"
     },
     "output_type": "display_data"
    }
   ],
   "source": [
    "lat = city_weather_df[\"Lat\"]\n",
    "temp = city_weather_df[\"Max Temp\"]\n",
    "plt.scatter(lat, temp, marker=\"o\", facecolors=\"blue\", edgecolors=\"black\")\n",
    "plt.title(\"City Latitude vs. Max Temperature (08/19/2020)\")\n",
    "plt.xlabel(\"Latitude\")\n",
    "plt.ylabel(\"Max Temp. (F)\")\n",
    "plt.savefig(\"output_data/LatVsTemp.png\")\n",
    "# here we can get a sense for the relationship between latitude and temperature\n",
    "# temperature tends to be highest at lower latitudes (and vice versa)"
   ]
  },
  {
   "cell_type": "markdown",
   "metadata": {},
   "source": [
    "## Latitude vs. Humidity Plot"
   ]
  },
  {
   "cell_type": "code",
   "execution_count": 31,
   "metadata": {},
   "outputs": [
    {
     "data": {
      "image/png": "[encoded data removed]",
      "text/plain": [
       "<Figure size 432x288 with 1 Axes>"
      ]
     },
     "metadata": {
      "needs_background": "light"
     },
     "output_type": "display_data"
    }
   ],
   "source": [
    "lat = city_weather_df[\"Lat\"]\n",
    "hum = city_weather_df[\"Humidity\"]\n",
    "plt.scatter(lat, hum, marker=\"o\", facecolors=\"blue\", edgecolors=\"black\")\n",
    "plt.title(\"City Latitude vs. Humidity (08/19/2020)\")\n",
    "plt.xlabel(\"Latitude\")\n",
    "plt.ylabel(\"Humidity (%)\")\n",
    "plt.savefig(\"output_data/LatVsHum.png\")\n",
    "# here we can get a sense for the relationship between latitude and humidity\n",
    "# there is not much we can conclude here"
   ]
  },
  {
   "cell_type": "markdown",
   "metadata": {},
   "source": [
    "## Latitude vs. Cloudiness Plot"
   ]
  },
  {
   "cell_type": "code",
   "execution_count": 27,
   "metadata": {},
   "outputs": [
    {
     "data": {
      "image/png": "[encoded data removed]",
      "text/plain": [
       "<Figure size 432x288 with 1 Axes>"
      ]
     },
     "metadata": {
      "needs_background": "light"
     },
     "output_type": "display_data"
    }
   ],
   "source": [
    "lat = city_weather_df[\"Lat\"]\n",
    "cld = city_weather_df[\"Cloudiness\"]\n",
    "plt.scatter(lat, cld, marker=\"o\", facecolors=\"blue\", edgecolors=\"black\")\n",
    "plt.title(\"City Latitude vs. Cloudiness (08/19/2020)\")\n",
    "plt.xlabel(\"Latitude\")\n",
    "plt.ylabel(\"Cloudiness (%)\")\n",
    "plt.savefig(\"output_data/LatVsCld.png\")\n",
    "# here we can get a sense for the relationship between latitude and cloudiness\n",
    "# again, not much we can conclude here"
   ]
  },
  {
   "cell_type": "markdown",
   "metadata": {},
   "source": [
    "## Latitude vs. Wind Speed Plot"
   ]
  },
  {
   "cell_type": "code",
   "execution_count": 30,
   "metadata": {},
   "outputs": [
    {
     "data": {
      "image/png": "[encoded data removed]",
      "text/plain": [
       "<Figure size 432x288 with 1 Axes>"
      ]
     },
     "metadata": {
      "needs_background": "light"
     },
     "output_type": "display_data"
    }
   ],
   "source": [
    "lat = city_weather_df[\"Lat\"]\n",
    "wind = city_weather_df[\"Windspeed\"]\n",
    "plt.scatter(lat, wind, marker=\"o\", facecolors=\"blue\", edgecolors=\"black\")\n",
    "plt.title(\"City Latitude vs. Wind Speed (08/19/2020)\")\n",
    "plt.xlabel(\"Latitude\")\n",
    "plt.ylabel(\"Wind Speed (mph)\")\n",
    "plt.savefig(\"output_data/LatVsWind.png\")\n",
    "# here we can get a sense for the relationship between latitude and cloudiness\n",
    "# no conclusions"
   ]
  },
  {
   "cell_type": "markdown",
   "metadata": {},
   "source": [
    "## Linear Regression"
   ]
  },
  {
   "cell_type": "code",
   "execution_count": 14,
   "metadata": {},
   "outputs": [],
   "source": [
    "# OPTIONAL: Create a function to create Linear Regression plots"
   ]
  },
  {
   "cell_type": "code",
   "execution_count": 15,
   "metadata": {},
   "outputs": [],
   "source": [
    "# Create Northern and Southern Hemisphere DataFrames"
   ]
  },
  {
   "cell_type": "markdown",
   "metadata": {},
   "source": [
    "####  Northern Hemisphere - Max Temp vs. Latitude Linear Regression"
   ]
  },
  {
   "cell_type": "code",
   "execution_count": 16,
   "metadata": {},
   "outputs": [
    {
     "name": "stdout",
     "output_type": "stream",
     "text": [
      "The r-squared is: 0.8271188905041935\n"
     ]
    },
    {
     "data": {
      "image/png": "[encoded data removed]",
      "text/plain": [
       "<Figure size 432x288 with 1 Axes>"
      ]
     },
     "metadata": {
      "needs_background": "light"
     },
     "output_type": "display_data"
    }
   ],
   "source": []
  },
  {
   "cell_type": "markdown",
   "metadata": {},
   "source": [
    "####  Southern Hemisphere - Max Temp vs. Latitude Linear Regression"
   ]
  },
  {
   "cell_type": "code",
   "execution_count": 17,
   "metadata": {},
   "outputs": [
    {
     "name": "stdout",
     "output_type": "stream",
     "text": [
      "The r-squared is: 0.39936284758885965\n"
     ]
    },
    {
     "data": {
      "image/png": "[encoded data removed]",
      "text/plain": [
       "<Figure size 432x288 with 1 Axes>"
      ]
     },
     "metadata": {
      "needs_background": "light"
     },
     "output_type": "display_data"
    }
   ],
   "source": []
  },
  {
   "cell_type": "markdown",
   "metadata": {},
   "source": [
    "####  Northern Hemisphere - Humidity (%) vs. Latitude Linear Regression"
   ]
  },
  {
   "cell_type": "code",
   "execution_count": 18,
   "metadata": {},
   "outputs": [
    {
     "name": "stdout",
     "output_type": "stream",
     "text": [
      "The r-squared is: 0.10829462153873139\n"
     ]
    },
    {
     "data": {
      "image/png": "[encoded data removed]",
      "text/plain": [
       "<Figure size 432x288 with 1 Axes>"
      ]
     },
     "metadata": {
      "needs_background": "light"
     },
     "output_type": "display_data"
    }
   ],
   "source": []
  },
  {
   "cell_type": "markdown",
   "metadata": {},
   "source": [
    "####  Southern Hemisphere - Humidity (%) vs. Latitude Linear Regression"
   ]
  },
  {
   "cell_type": "code",
   "execution_count": 19,
   "metadata": {},
   "outputs": [
    {
     "name": "stdout",
     "output_type": "stream",
     "text": [
      "The r-squared is: 0.0008996079328825663\n"
     ]
    },
    {
     "data": {
      "image/png": "[encoded data removed]",
      "text/plain": [
       "<Figure size 432x288 with 1 Axes>"
      ]
     },
     "metadata": {
      "needs_background": "light"
     },
     "output_type": "display_data"
    }
   ],
   "source": []
  },
  {
   "cell_type": "markdown",
   "metadata": {},
   "source": [
    "####  Northern Hemisphere - Cloudiness (%) vs. Latitude Linear Regression"
   ]
  },
  {
   "cell_type": "code",
   "execution_count": 20,
   "metadata": {},
   "outputs": [
    {
     "name": "stdout",
     "output_type": "stream",
     "text": [
      "The r-squared is: 0.05768812657005063\n"
     ]
    },
    {
     "data": {
      "image/png": "[encoded data removed]",
      "text/plain": [
       "<Figure size 432x288 with 1 Axes>"
      ]
     },
     "metadata": {
      "needs_background": "light"
     },
     "output_type": "display_data"
    }
   ],
   "source": []
  },
  {
   "cell_type": "markdown",
   "metadata": {},
   "source": [
    "####  Southern Hemisphere - Cloudiness (%) vs. Latitude Linear Regression"
   ]
  },
  {
   "cell_type": "code",
   "execution_count": 21,
   "metadata": {},
   "outputs": [
    {
     "name": "stdout",
     "output_type": "stream",
     "text": [
      "The r-squared is: 0.0684912094859049\n"
     ]
    },
    {
     "data": {
      "image/png": "[encoded data removed]",
      "text/plain": [
       "<Figure size 432x288 with 1 Axes>"
      ]
     },
     "metadata": {
      "needs_background": "light"
     },
     "output_type": "display_data"
    }
   ],
   "source": []
  },
  {
   "cell_type": "markdown",
   "metadata": {},
   "source": [
    "####  Northern Hemisphere - Wind Speed (mph) vs. Latitude Linear Regression"
   ]
  },
  {
   "cell_type": "code",
   "execution_count": 22,
   "metadata": {},
   "outputs": [
    {
     "name": "stdout",
     "output_type": "stream",
     "text": [
      "The r-squared is: 0.023371104533850804\n"
     ]
    },
    {
     "data": {
      "image/png": "[encoded data removed]",
      "text/plain": [
       "<Figure size 432x288 with 1 Axes>"
      ]
     },
     "metadata": {
      "needs_background": "light"
     },
     "output_type": "display_data"
    }
   ],
   "source": []
  },
  {
   "cell_type": "markdown",
   "metadata": {},
   "source": [
    "####  Southern Hemisphere - Wind Speed (mph) vs. Latitude Linear Regression"
   ]
  },
  {
   "cell_type": "code",
   "execution_count": 23,
   "metadata": {},
   "outputs": [
    {
     "name": "stdout",
     "output_type": "stream",
     "text": [
      "The r-squared is: 0.03381889207758188\n"
     ]
    },
    {
     "data": {
      "image/png": "[encoded data removed]",
      "text/plain": [
       "<Figure size 432x288 with 1 Axes>"
      ]
     },
     "metadata": {
      "needs_background": "light"
     },
     "output_type": "display_data"
    }
   ],
   "source": []
  },
  {
   "cell_type": "code",
   "execution_count": null,
   "metadata": {},
   "outputs": [],
   "source": []
  }
 ],
 "metadata": {
  "anaconda-cloud": {},
  "kernel_info": {
   "name": "python3"
  },
  "kernelspec": {
   "display_name": "Python 3",
   "language": "python",
   "name": "python3"
  },
  "language_info": {
   "codemirror_mode": {
    "name": "ipython",
    "version": 3
   },
   "file_extension": ".py",
   "mimetype": "text/x-python",
   "name": "python",
   "nbconvert_exporter": "python",
   "pygments_lexer": "ipython3",
   "version": "3.7.6"
  },
  "latex_envs": {
   "LaTeX_envs_menu_present": true,
   "autoclose": false,
   "autocomplete": true,
   "bibliofile": "biblio.bib",
   "cite_by": "apalike",
   "current_citInitial": 1,
   "eqLabelWithNumbers": true,
   "eqNumInitial": 1,
   "hotkeys": {
    "equation": "Ctrl-E",
    "itemize": "Ctrl-I"
   },
   "labels_anchors": false,
   "latex_user_defs": false,
   "report_style_numbering": false,
   "user_envs_cfg": false
  },
  "nteract": {
   "version": "0.12.3"
  }
 },
 "nbformat": 4,
 "nbformat_minor": 2
}
